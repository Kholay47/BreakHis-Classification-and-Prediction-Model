{
 "cells": [
  {
   "cell_type": "markdown",
   "id": "cef1b951",
   "metadata": {},
   "source": [
    "app for resnet50"
   ]
  },
  {
   "cell_type": "code",
   "execution_count": null,
   "id": "ad0607ca",
   "metadata": {
    "vscode": {
     "languageId": "plaintext"
    }
   },
   "outputs": [],
   "source": [
    "from flask import Flask, render_template, request\n",
    "import torch\n",
    "import torch.nn as nn\n",
    "from torchvision import models, transforms\n",
    "from PIL import Image\n",
    "import os\n",
    "\n",
    "# ===== Flask App =====\n",
    "app = Flask(__name__)\n",
    "UPLOAD_FOLDER = \"static\"\n",
    "app.config[\"UPLOAD_FOLDER\"] = UPLOAD_FOLDER\n",
    "\n",
    "# ===== Class Names =====\n",
    "CLASS_NAMES = ['adenosis', 'ductal_carcinoma', 'fibroadenoma', 'lobular_carcinoma',\n",
    "               'mucinous_carcinoma', 'papillary_carcinoma', 'phyllodes_tumor', 'tubular_adenoma']\n",
    "\n",
    "# ===== Image Transform =====\n",
    "transform = transforms.Compose([\n",
    "    transforms.Resize((224, 224)),\n",
    "    transforms.ToTensor(),\n",
    "    transforms.Normalize(mean=[0.485, 0.456, 0.406],\n",
    "                         std=[0.229, 0.224, 0.225])\n",
    "])\n",
    "\n",
    "# ===== Load Model =====\n",
    "device = torch.device(\"cuda\" if torch.cuda.is_available() else \"cpu\")\n",
    "model = models.resnet50(weights=None)  # No pretrained weights, we'll load our own\n",
    "num_ftrs = model.fc.in_features\n",
    "model.fc = nn.Linear(num_ftrs, len(CLASS_NAMES))\n",
    "model.load_state_dict(torch.load(\"model3.pth\", map_location=device))\n",
    "model.to(device)\n",
    "model.eval()\n",
    "\n",
    "def predict_image(image_path):\n",
    "    image = Image.open(image_path).convert(\"RGB\")\n",
    "    image = transform(image).unsqueeze(0).to(device)\n",
    "\n",
    "    with torch.no_grad():\n",
    "        outputs = model(image)\n",
    "        _, predicted = torch.max(outputs, 1)\n",
    "    \n",
    "    return CLASS_NAMES[predicted.item()]\n",
    "\n",
    "# ===== Routes =====\n",
    "@app.route(\"/\", methods=[\"GET\", \"POST\"])\n",
    "def index():\n",
    "    prediction = None\n",
    "    image_path = None\n",
    "\n",
    "    if request.method == \"POST\":\n",
    "        if \"file\" not in request.files:\n",
    "            return render_template(\"index.html\", prediction=\"No file uploaded\")\n",
    "\n",
    "        file = request.files[\"file\"]\n",
    "        if file.filename == \"\":\n",
    "            return render_template(\"index.html\", prediction=\"No file selected\")\n",
    "\n",
    "        # Save file\n",
    "        image_path = os.path.join(app.config[\"UPLOAD_FOLDER\"], file.filename)\n",
    "        file.save(image_path)\n",
    "\n",
    "        # Predict\n",
    "        prediction = predict_image(image_path)\n",
    "\n",
    "    return render_template(\"index.html\", prediction=prediction, image_path=image_path)\n",
    "\n",
    "if __name__ == \"__main__\":\n",
    "    app.run(debug=True)\n"
   ]
  },
  {
   "cell_type": "markdown",
   "id": "23390857",
   "metadata": {},
   "source": [
    "index.html for resnet 50"
   ]
  },
  {
   "cell_type": "code",
   "execution_count": null,
   "id": "7804e4c3",
   "metadata": {
    "vscode": {
     "languageId": "plaintext"
    }
   },
   "outputs": [],
   "source": [
    "<!DOCTYPE html>\n",
    "<html>\n",
    "<head>\n",
    "    <title>Breast Cancer Classification</title>\n",
    "</head>\n",
    "<body>\n",
    "    <h2>Upload an Image for Classification</h2>\n",
    "    <form action=\"/\" method=\"post\" enctype=\"multipart/form-data\">\n",
    "        <input type=\"file\" name=\"file\" accept=\"image/*\" required>\n",
    "        <input type=\"submit\" value=\"Upload and Predict\">\n",
    "    </form>\n",
    "\n",
    "    {% if prediction %}\n",
    "        <h3>Prediction: {{ prediction }}</h3>\n",
    "        <img src=\"{{ image_path }}\" alt=\"Uploaded Image\" width=\"300\">\n",
    "    {% endif %}\n",
    "</body>\n",
    "</html>"
   ]
  },
  {
   "cell_type": "markdown",
   "id": "4d86917f",
   "metadata": {},
   "source": [
    "basic app.py for efficientnet"
   ]
  },
  {
   "cell_type": "code",
   "execution_count": null,
   "id": "43028de5",
   "metadata": {
    "vscode": {
     "languageId": "plaintext"
    }
   },
   "outputs": [],
   "source": [
    "import torch\n",
    "import torch.nn as nn\n",
    "from torchvision import models, transforms\n",
    "from flask import Flask, request, render_template, jsonify\n",
    "from PIL import Image\n",
    "import os\n",
    "\n",
    "# ----------------------------\n",
    "# Flask app initialization\n",
    "# ----------------------------\n",
    "app = Flask(__name__)\n",
    "\n",
    "# ----------------------------\n",
    "# Device setup\n",
    "# ----------------------------\n",
    "device = torch.device(\"cuda\" if torch.cuda.is_available() else \"cpu\")\n",
    "\n",
    "# ----------------------------\n",
    "# Define class names (same as training order)\n",
    "# ----------------------------\n",
    "CLASS_NAMES = [\n",
    "    'adenosis', 'ductal_carcinoma', 'fibroadenoma',\n",
    "    'lobular_carcinoma', 'mucinous_carcinoma',\n",
    "    'papillary_carcinoma', 'phyllodes_tumor', 'tubular_adenoma'\n",
    "]\n",
    "\n",
    "# ----------------------------\n",
    "# Load EfficientNet model\n",
    "# ----------------------------\n",
    "def load_model(weights_path=\"model3.pth\"):\n",
    "    model = models.efficientnet_b0(weights=None)   # change to efficientnet_b1/b2 if trained with that\n",
    "    num_ftrs = model.classifier[1].in_features\n",
    "    model.classifier[1] = nn.Linear(num_ftrs, len(CLASS_NAMES))\n",
    "\n",
    "    model.load_state_dict(torch.load(weights_path, map_location=device))\n",
    "    model = model.to(device)\n",
    "    model.eval()\n",
    "    return model\n",
    "\n",
    "model = load_model()\n",
    "\n",
    "# ----------------------------\n",
    "# Image preprocessing\n",
    "# ----------------------------\n",
    "transform = transforms.Compose([\n",
    "    transforms.Resize((224, 224)),  # EfficientNet expects 224x224\n",
    "    transforms.ToTensor(),\n",
    "    transforms.Normalize([0.485, 0.456, 0.406],\n",
    "                         [0.229, 0.224, 0.225])\n",
    "])\n",
    "\n",
    "def predict_image(image_path):\n",
    "    image = Image.open(image_path).convert(\"RGB\")\n",
    "    img_t = transform(image).unsqueeze(0).to(device)\n",
    "\n",
    "    with torch.no_grad():\n",
    "        outputs = model(img_t)\n",
    "        _, preds = torch.max(outputs, 1)\n",
    "        predicted_class = CLASS_NAMES[preds.item()]\n",
    "        confidence = torch.nn.functional.softmax(outputs, dim=1)[0][preds.item()].item()\n",
    "\n",
    "    return predicted_class, confidence\n",
    "\n",
    "# ----------------------------\n",
    "# Flask Routes\n",
    "# ----------------------------\n",
    "@app.route(\"/\", methods=[\"GET\", \"POST\"])\n",
    "def index():\n",
    "    if request.method == \"POST\":\n",
    "        if \"file\" not in request.files:\n",
    "            return \"No file uploaded\", 400\n",
    "\n",
    "        file = request.files[\"file\"]\n",
    "        if file.filename == \"\":\n",
    "            return \"No file selected\", 400\n",
    "\n",
    "        file_path = os.path.join(\"uploads\", file.filename)\n",
    "        os.makedirs(\"uploads\", exist_ok=True)\n",
    "        file.save(file_path)\n",
    "\n",
    "        pred_class, confidence = predict_image(file_path)\n",
    "        return render_template(\"index.html\", prediction=pred_class, confidence=confidence)\n",
    "\n",
    "    return render_template(\"index.html\")\n",
    "\n",
    "# ----------------------------\n",
    "# Run Flask app\n",
    "# ----------------------------\n",
    "if __name__ == \"__main__\":\n",
    "    app.run(debug=True)\n"
   ]
  },
  {
   "cell_type": "markdown",
   "id": "cb0f94a4",
   "metadata": {},
   "source": [
    "index.html for efficient net"
   ]
  },
  {
   "cell_type": "code",
   "execution_count": null,
   "id": "dd14ddf2",
   "metadata": {
    "vscode": {
     "languageId": "plaintext"
    }
   },
   "outputs": [],
   "source": [
    "<!DOCTYPE html>\n",
    "<html>\n",
    "<head>\n",
    "    <title>Breast Cancer Classification</title>\n",
    "</head>\n",
    "<body>\n",
    "    <h2>Upload a Histopathology Image</h2>\n",
    "    <form method=\"post\" enctype=\"multipart/form-data\">\n",
    "        <input type=\"file\" name=\"file\" required>\n",
    "        <input type=\"submit\" value=\"Predict\">\n",
    "    </form>\n",
    "\n",
    "    {% if prediction %}\n",
    "        <h3>Prediction: {{ prediction }}</h3>\n",
    "        <h4>Confidence: {{ confidence|round(3) }}</h4>\n",
    "    {% endif %}\n",
    "</body>\n",
    "</html>"
   ]
  }
 ],
 "metadata": {
  "language_info": {
   "name": "python"
  }
 },
 "nbformat": 4,
 "nbformat_minor": 5
}
